{
  "nbformat": 4,
  "nbformat_minor": 0,
  "metadata": {
    "colab": {
      "provenance": [],
      "authorship_tag": "ABX9TyPTaipSHtapaX4GwGETpL7k",
      "include_colab_link": true
    },
    "kernelspec": {
      "name": "python3",
      "display_name": "Python 3"
    },
    "language_info": {
      "name": "python"
    },
    "vp": {
      "vp_note_display": false,
      "vp_note_width": 0,
      "vp_section_display": false
    }
  },
  "cells": [
    {
      "cell_type": "markdown",
      "metadata": {
        "id": "view-in-github",
        "colab_type": "text"
      },
      "source": [
        "<a href=\"https://colab.research.google.com/github/ilgaur/think-python-book/blob/main/think_python_chapter_5.ipynb\" target=\"_parent\"><img src=\"https://colab.research.google.com/assets/colab-badge.svg\" alt=\"Open In Colab\"/></a>"
      ]
    },
    {
      "cell_type": "code",
      "execution_count": null,
      "metadata": {
        "id": "OHdSM_9XZnFA"
      },
      "outputs": [],
      "source": [
        "#Modulues operator, boolean expressions and logical operators"
      ]
    },
    {
      "cell_type": "code",
      "source": [
        "#Conventional division\n",
        "minutes = 105\n",
        "minutes / 60"
      ],
      "metadata": {
        "colab": {
          "base_uri": "https://localhost:8080/"
        },
        "id": "djvisNqUaU4Q",
        "outputId": "256daa92-9446-4701-9cbe-a7bbfc38d185"
      },
      "execution_count": null,
      "outputs": [
        {
          "output_type": "execute_result",
          "data": {
            "text/plain": [
              "1.75"
            ]
          },
          "metadata": {},
          "execution_count": 9
        }
      ]
    },
    {
      "cell_type": "code",
      "source": [
        "# Integer division\n",
        "minutes = 105\n",
        "hours = minutes // 60\n",
        "hours"
      ],
      "metadata": {
        "colab": {
          "base_uri": "https://localhost:8080/"
        },
        "id": "aonyDaHjafPj",
        "outputId": "2531713f-1ff4-491b-a6f1-511f0acc0c0e"
      },
      "execution_count": null,
      "outputs": [
        {
          "output_type": "execute_result",
          "data": {
            "text/plain": [
              "1"
            ]
          },
          "metadata": {},
          "execution_count": 5
        }
      ]
    },
    {
      "cell_type": "code",
      "source": [
        "# Remove total hours in minutes from the total minutes to get the remainder after solid hours\n",
        "remainder = minutes - hours * 60\n",
        "remainder"
      ],
      "metadata": {
        "colab": {
          "base_uri": "https://localhost:8080/"
        },
        "id": "4GroOe78bKM8",
        "outputId": "528251a0-84a8-410b-b210-f252005fc35c"
      },
      "execution_count": null,
      "outputs": [
        {
          "output_type": "execute_result",
          "data": {
            "text/plain": [
              "45"
            ]
          },
          "metadata": {},
          "execution_count": 7
        }
      ]
    },
    {
      "cell_type": "code",
      "source": [
        "# Using modulus operator to easily get the remainder,\n",
        "# it divides two numbers and returns the remainder\n",
        "remainder = minutes % 60\n",
        "remainder"
      ],
      "metadata": {
        "colab": {
          "base_uri": "https://localhost:8080/"
        },
        "id": "g5rfQ8fYb7Oj",
        "outputId": "bdfcc4ec-2ae8-4656-a3db-329d67386160"
      },
      "execution_count": null,
      "outputs": [
        {
          "output_type": "execute_result",
          "data": {
            "text/plain": [
              "45"
            ]
          },
          "metadata": {},
          "execution_count": 8
        }
      ]
    },
    {
      "cell_type": "code",
      "source": [
        "# Modulues an be useful, for example can check to see whether a number is divisble by another\n",
        "# If x % y is zero then x is divisble by y, 10 % 5 --> 0\n",
        "# Also it can extract the right most digit or digits from a number, x % 10 yields the right-most\n",
        "# digit of x (Base 10), similarly x % 100 is gonna yield the last two digits"
      ],
      "metadata": {
        "id": "DGDwaM-Uc4WH"
      },
      "execution_count": null,
      "outputs": []
    },
    {
      "cell_type": "code",
      "source": [
        "one_digits_from_right = 5135163 % 10\n",
        "print(f'One digit starting from right: {one_digits_from_right}')\n"
      ],
      "metadata": {
        "colab": {
          "base_uri": "https://localhost:8080/"
        },
        "id": "SRGcLwL-nomw",
        "outputId": "7ce415e7-c9f1-457e-edc9-2f25fdcf5b1c"
      },
      "execution_count": null,
      "outputs": [
        {
          "output_type": "stream",
          "name": "stdout",
          "text": [
            "One digit from right: 3\n"
          ]
        }
      ]
    },
    {
      "cell_type": "code",
      "source": [
        "import random\n",
        "loop_range = 10\n",
        "for i in range(loop_range):\n",
        "  var_name = f'digit_{i}_from_right'\n",
        "  number = random.randint(10**(loop_range - 1), 10**loop_range - 1)\n",
        "  print(var_name)\n",
        "  modulus_operation = number % (10 ** (i + 1))\n",
        "  print(f'{number} --> {var_name} --> {modulus_operation}\\n')"
      ],
      "metadata": {
        "colab": {
          "base_uri": "https://localhost:8080/"
        },
        "id": "ZmFYhIAgpTHy",
        "outputId": "8927a11a-8047-44b1-d70d-1af68fca0452"
      },
      "execution_count": 17,
      "outputs": [
        {
          "output_type": "stream",
          "name": "stdout",
          "text": [
            "digit_0_from_right\n",
            "8422257404 --> digit_0_from_right --> 4\n",
            "\n",
            "digit_1_from_right\n",
            "6488767717 --> digit_1_from_right --> 17\n",
            "\n",
            "digit_2_from_right\n",
            "6715214611 --> digit_2_from_right --> 611\n",
            "\n",
            "digit_3_from_right\n",
            "4830809653 --> digit_3_from_right --> 9653\n",
            "\n",
            "digit_4_from_right\n",
            "7448855755 --> digit_4_from_right --> 55755\n",
            "\n",
            "digit_5_from_right\n",
            "7767812037 --> digit_5_from_right --> 812037\n",
            "\n",
            "digit_6_from_right\n",
            "3333138489 --> digit_6_from_right --> 3138489\n",
            "\n",
            "digit_7_from_right\n",
            "4581097755 --> digit_7_from_right --> 81097755\n",
            "\n",
            "digit_8_from_right\n",
            "2442644013 --> digit_8_from_right --> 442644013\n",
            "\n",
            "digit_9_from_right\n",
            "5620704463 --> digit_9_from_right --> 5620704463\n",
            "\n"
          ]
        }
      ]
    },
    {
      "cell_type": "code",
      "source": [
        "my_range = range(3)\n",
        "print(type(my_range))\n",
        "print(my_range)\n",
        "len(my_range)\n",
        "#len(range(5))"
      ],
      "metadata": {
        "colab": {
          "base_uri": "https://localhost:8080/"
        },
        "id": "_alMsqQFwDA-",
        "outputId": "de9a4347-a5cd-4c49-d554-ecd141be7ce5"
      },
      "execution_count": 71,
      "outputs": [
        {
          "output_type": "stream",
          "name": "stdout",
          "text": [
            "<class 'range'>\n",
            "range(0, 3)\n"
          ]
        },
        {
          "output_type": "execute_result",
          "data": {
            "text/plain": [
              "3"
            ]
          },
          "metadata": {},
          "execution_count": 71
        }
      ]
    },
    {
      "cell_type": "code",
      "source": [
        "print(range(5))\n",
        "print(range(2, 8))\n",
        "print(range(1, 10, 2))"
      ],
      "metadata": {
        "id": "A3npr3EsyYg8",
        "colab": {
          "base_uri": "https://localhost:8080/"
        },
        "outputId": "96af27ea-65e9-44aa-c49f-79c987fa9a07"
      },
      "execution_count": 63,
      "outputs": [
        {
          "output_type": "stream",
          "name": "stdout",
          "text": [
            "range(0, 5)\n",
            "range(2, 8)\n",
            "range(1, 10, 2)\n"
          ]
        }
      ]
    },
    {
      "cell_type": "code",
      "source": [
        "import random\n",
        "cardinal_numbers = [\"one\", \"two\", \"three\", \"four\", \"five\", \"six\", \"seven\", \"eight\", \"nine\", \"ten\"]\n",
        "loop_range = 10\n",
        "for i in range(loop_range):\n",
        "  var_name = f'{cardinal_numbers[i]}_digit_from_right'\n",
        "  number = random.randint((10**(loop_range-1)), (10**loop_range)-1)\n",
        "  print(var_name)\n",
        "  modulus_operation = number % (10**(i + 1))\n",
        "  print(f'{number} --> {var_name} --> {modulus_operation}\\n')"
      ],
      "metadata": {
        "colab": {
          "base_uri": "https://localhost:8080/"
        },
        "id": "khbn385W8gui",
        "outputId": "c5517dbe-6271-45f3-ff11-79d8cec950ef"
      },
      "execution_count": 26,
      "outputs": [
        {
          "output_type": "stream",
          "name": "stdout",
          "text": [
            "one_digit_from_right\n",
            "6579124664 --> one_digit_from_right --> 4\n",
            "\n",
            "two_digit_from_right\n",
            "7801853777 --> two_digit_from_right --> 77\n",
            "\n",
            "three_digit_from_right\n",
            "9132287663 --> three_digit_from_right --> 663\n",
            "\n",
            "four_digit_from_right\n",
            "5282086877 --> four_digit_from_right --> 6877\n",
            "\n",
            "five_digit_from_right\n",
            "9169766001 --> five_digit_from_right --> 66001\n",
            "\n",
            "six_digit_from_right\n",
            "7715015036 --> six_digit_from_right --> 15036\n",
            "\n",
            "seven_digit_from_right\n",
            "2769875531 --> seven_digit_from_right --> 9875531\n",
            "\n",
            "eight_digit_from_right\n",
            "1616044563 --> eight_digit_from_right --> 16044563\n",
            "\n",
            "nine_digit_from_right\n",
            "3950969691 --> nine_digit_from_right --> 950969691\n",
            "\n",
            "ten_digit_from_right\n",
            "4707504631 --> ten_digit_from_right --> 4707504631\n",
            "\n"
          ]
        }
      ]
    },
    {
      "cell_type": "code",
      "source": [
        "import random\n",
        "cardinal_numbers = [\"one\", \"two\", \"three\", \"four\", \"five\", \"six\", \"seven\", \"eight\", \"nine\", \"ten\"]\n",
        "loop_range = 10\n",
        "for i in range(loop_range):\n",
        "  var_name = f'{cardinal_numbers[i]}_{\"digit\" if i == 0 else \"digits\"}_from_right'\n",
        "  number = random.randint((10**(loop_range-1)), (10**loop_range)-1)\n",
        "  print(var_name)\n",
        "  modulus_operation = number % (10**(i + 1))\n",
        "  print(f'{number} --> {var_name} --> {modulus_operation}\\n')"
      ],
      "metadata": {
        "colab": {
          "base_uri": "https://localhost:8080/"
        },
        "id": "6e0VynuRQfp3",
        "outputId": "0f5b8294-a71c-4562-ea18-a4ad1eeb6583"
      },
      "execution_count": 29,
      "outputs": [
        {
          "output_type": "stream",
          "name": "stdout",
          "text": [
            "one_digit_from_right\n",
            "7203485748 --> one_digit_from_right --> 8\n",
            "\n",
            "two_digits_from_right\n",
            "9891080506 --> two_digits_from_right --> 6\n",
            "\n",
            "three_digits_from_right\n",
            "8196648823 --> three_digits_from_right --> 823\n",
            "\n",
            "four_digits_from_right\n",
            "6232247121 --> four_digits_from_right --> 7121\n",
            "\n",
            "five_digits_from_right\n",
            "8405116748 --> five_digits_from_right --> 16748\n",
            "\n",
            "six_digits_from_right\n",
            "4850182076 --> six_digits_from_right --> 182076\n",
            "\n",
            "seven_digits_from_right\n",
            "8114931162 --> seven_digits_from_right --> 4931162\n",
            "\n",
            "eight_digits_from_right\n",
            "7700376107 --> eight_digits_from_right --> 376107\n",
            "\n",
            "nine_digits_from_right\n",
            "6726996922 --> nine_digits_from_right --> 726996922\n",
            "\n",
            "ten_digits_from_right\n",
            "5773368401 --> ten_digits_from_right --> 5773368401\n",
            "\n"
          ]
        }
      ]
    },
    {
      "cell_type": "code",
      "source": [
        "# Event would end at 2 PM (?)\n",
        "start = 11\n",
        "duration = 3\n",
        "end = (start + duration) % 12\n",
        "end"
      ],
      "metadata": {
        "colab": {
          "base_uri": "https://localhost:8080/"
        },
        "id": "X5jgsMiRRziU",
        "outputId": "20ef320d-1733-4d8f-f28b-178b2f37cd11"
      },
      "execution_count": 31,
      "outputs": [
        {
          "output_type": "execute_result",
          "data": {
            "text/plain": [
              "2"
            ]
          },
          "metadata": {},
          "execution_count": 31
        }
      ]
    },
    {
      "cell_type": "code",
      "source": [
        "# Boolean expressions\n",
        "5 == 5"
      ],
      "metadata": {
        "colab": {
          "base_uri": "https://localhost:8080/"
        },
        "id": "GChQJeheTrE1",
        "outputId": "b0d34b3b-d834-4dc5-d361-868227ebfb67"
      },
      "execution_count": 41,
      "outputs": [
        {
          "output_type": "execute_result",
          "data": {
            "text/plain": [
              "True"
            ]
          },
          "metadata": {},
          "execution_count": 41
        }
      ]
    },
    {
      "cell_type": "code",
      "source": [
        "5 == 7"
      ],
      "metadata": {
        "colab": {
          "base_uri": "https://localhost:8080/"
        },
        "id": "TuHrvmf2UJN2",
        "outputId": "0a8fc5a7-e9f2-43f4-8446-e21d9a3e2a80"
      },
      "execution_count": 43,
      "outputs": [
        {
          "output_type": "execute_result",
          "data": {
            "text/plain": [
              "False"
            ]
          },
          "metadata": {},
          "execution_count": 43
        }
      ]
    },
    {
      "cell_type": "code",
      "source": [
        "# Single equal sign assigns a value to a variable, double equal signs compares two values"
      ],
      "metadata": {
        "id": "XIu9svfbULyU"
      },
      "execution_count": 45,
      "outputs": []
    },
    {
      "cell_type": "code",
      "source": [
        "x = 5\n",
        "y = 7"
      ],
      "metadata": {
        "id": "1ZgD2sHrUanK"
      },
      "execution_count": 46,
      "outputs": []
    },
    {
      "cell_type": "code",
      "source": [
        "x == y"
      ],
      "metadata": {
        "colab": {
          "base_uri": "https://localhost:8080/"
        },
        "id": "nGcjoGR2UdFU",
        "outputId": "b9fed683-9e14-45c8-f009-d0ec47aba307"
      },
      "execution_count": 47,
      "outputs": [
        {
          "output_type": "execute_result",
          "data": {
            "text/plain": [
              "False"
            ]
          },
          "metadata": {},
          "execution_count": 47
        }
      ]
    },
    {
      "cell_type": "code",
      "source": [
        "type(True)"
      ],
      "metadata": {
        "colab": {
          "base_uri": "https://localhost:8080/"
        },
        "id": "hqFZZodBUeMQ",
        "outputId": "ed2f6bc8-f410-498e-f24b-1c347ee84608"
      },
      "execution_count": 48,
      "outputs": [
        {
          "output_type": "execute_result",
          "data": {
            "text/plain": [
              "bool"
            ]
          },
          "metadata": {},
          "execution_count": 48
        }
      ]
    },
    {
      "cell_type": "code",
      "source": [
        "type(False)"
      ],
      "metadata": {
        "colab": {
          "base_uri": "https://localhost:8080/"
        },
        "id": "42lUOKC6UjAz",
        "outputId": "f13d990d-9a2d-4d11-8b21-a8e63bab0c7e"
      },
      "execution_count": 50,
      "outputs": [
        {
          "output_type": "execute_result",
          "data": {
            "text/plain": [
              "bool"
            ]
          },
          "metadata": {},
          "execution_count": 50
        }
      ]
    },
    {
      "cell_type": "code",
      "source": [
        "## == is a relational operator, some others include:"
      ],
      "metadata": {
        "id": "j7e8n0BlUlw9"
      },
      "execution_count": 52,
      "outputs": []
    },
    {
      "cell_type": "code",
      "source": [
        "x != y"
      ],
      "metadata": {
        "colab": {
          "base_uri": "https://localhost:8080/"
        },
        "id": "_8LikWv4Uq_V",
        "outputId": "e0935b10-d9ab-40a5-9d72-7d2d64bcb710"
      },
      "execution_count": 53,
      "outputs": [
        {
          "output_type": "execute_result",
          "data": {
            "text/plain": [
              "True"
            ]
          },
          "metadata": {},
          "execution_count": 53
        }
      ]
    },
    {
      "cell_type": "code",
      "source": [
        "x > y"
      ],
      "metadata": {
        "colab": {
          "base_uri": "https://localhost:8080/"
        },
        "id": "KAc9wLrRUzSo",
        "outputId": "9cd28fee-a326-479a-c1ff-ba2eb35bdc2a"
      },
      "execution_count": 55,
      "outputs": [
        {
          "output_type": "execute_result",
          "data": {
            "text/plain": [
              "False"
            ]
          },
          "metadata": {},
          "execution_count": 55
        }
      ]
    },
    {
      "cell_type": "code",
      "source": [
        "x < y"
      ],
      "metadata": {
        "colab": {
          "base_uri": "https://localhost:8080/"
        },
        "id": "WImXKpj0U1C6",
        "outputId": "a8e6f640-e477-4601-d604-1a616774ed7e"
      },
      "execution_count": 56,
      "outputs": [
        {
          "output_type": "execute_result",
          "data": {
            "text/plain": [
              "True"
            ]
          },
          "metadata": {},
          "execution_count": 56
        }
      ]
    },
    {
      "cell_type": "code",
      "source": [
        "x >= y"
      ],
      "metadata": {
        "colab": {
          "base_uri": "https://localhost:8080/"
        },
        "id": "TFXqi_NAU32d",
        "outputId": "79118c9a-73eb-45c9-8ffe-2aa3354f871e"
      },
      "execution_count": 57,
      "outputs": [
        {
          "output_type": "execute_result",
          "data": {
            "text/plain": [
              "False"
            ]
          },
          "metadata": {},
          "execution_count": 57
        }
      ]
    },
    {
      "cell_type": "code",
      "source": [
        "x <= y"
      ],
      "metadata": {
        "colab": {
          "base_uri": "https://localhost:8080/"
        },
        "id": "0vNt9oy8U65A",
        "outputId": "f73e2eae-88b1-45b0-d5d5-981d20b85ba1"
      },
      "execution_count": 58,
      "outputs": [
        {
          "output_type": "execute_result",
          "data": {
            "text/plain": [
              "True"
            ]
          },
          "metadata": {},
          "execution_count": 58
        }
      ]
    },
    {
      "cell_type": "code",
      "source": [
        "# Logical operators, to combine boolean values into expressions, we can use logical operators, most common are and, or and not."
      ],
      "metadata": {
        "id": "6pX6mdcTU8MG"
      },
      "execution_count": 59,
      "outputs": []
    },
    {
      "cell_type": "code",
      "source": [
        "x > 0 and x < 10"
      ],
      "metadata": {
        "colab": {
          "base_uri": "https://localhost:8080/"
        },
        "id": "xRHSjLj8VIQD",
        "outputId": "d257e4c1-1ffd-4f1c-efee-7af745eabc0d"
      },
      "execution_count": 60,
      "outputs": [
        {
          "output_type": "execute_result",
          "data": {
            "text/plain": [
              "True"
            ]
          },
          "metadata": {},
          "execution_count": 60
        }
      ]
    },
    {
      "cell_type": "code",
      "source": [
        "x"
      ],
      "metadata": {
        "colab": {
          "base_uri": "https://localhost:8080/"
        },
        "id": "eE2NJmjPVJzy",
        "outputId": "34716baa-b2f3-4e40-ef61-20b040e9a549"
      },
      "execution_count": 61,
      "outputs": [
        {
          "output_type": "execute_result",
          "data": {
            "text/plain": [
              "5"
            ]
          },
          "metadata": {},
          "execution_count": 61
        }
      ]
    },
    {
      "cell_type": "code",
      "source": [
        "x % 2 == 0 or x % 3 == 0"
      ],
      "metadata": {
        "colab": {
          "base_uri": "https://localhost:8080/"
        },
        "id": "ufnpG8QEVM29",
        "outputId": "dde26d8e-765f-4dcb-c865-5bdd5db4f856"
      },
      "execution_count": 62,
      "outputs": [
        {
          "output_type": "execute_result",
          "data": {
            "text/plain": [
              "False"
            ]
          },
          "metadata": {},
          "execution_count": 62
        }
      ]
    },
    {
      "cell_type": "code",
      "source": [
        "y"
      ],
      "metadata": {
        "colab": {
          "base_uri": "https://localhost:8080/"
        },
        "id": "idVnxnxsVS5C",
        "outputId": "5637419e-ffca-4368-f58a-2703faca0389"
      },
      "execution_count": 63,
      "outputs": [
        {
          "output_type": "execute_result",
          "data": {
            "text/plain": [
              "7"
            ]
          },
          "metadata": {},
          "execution_count": 63
        }
      ]
    },
    {
      "cell_type": "code",
      "source": [
        "x"
      ],
      "metadata": {
        "colab": {
          "base_uri": "https://localhost:8080/"
        },
        "id": "02MjAWnjVWCU",
        "outputId": "5b07c3df-4ee1-411d-b7b5-f066b30104c6"
      },
      "execution_count": 64,
      "outputs": [
        {
          "output_type": "execute_result",
          "data": {
            "text/plain": [
              "5"
            ]
          },
          "metadata": {},
          "execution_count": 64
        }
      ]
    },
    {
      "cell_type": "code",
      "source": [
        "not x > y"
      ],
      "metadata": {
        "colab": {
          "base_uri": "https://localhost:8080/"
        },
        "id": "guf9q7pkVWkt",
        "outputId": "c51548e0-0f65-4e4b-83c4-2983fa32386b"
      },
      "execution_count": 65,
      "outputs": [
        {
          "output_type": "execute_result",
          "data": {
            "text/plain": [
              "True"
            ]
          },
          "metadata": {},
          "execution_count": 65
        }
      ]
    },
    {
      "cell_type": "code",
      "source": [
        "# Operands of a logical operator should be boolean expressions naturally but python is not strict and any non-zero number will be interpreted as True\n",
        "42 and True"
      ],
      "metadata": {
        "colab": {
          "base_uri": "https://localhost:8080/"
        },
        "id": "tywx6eC6VYuP",
        "outputId": "2a8a370c-e482-49c9-dbe0-ba29ffc1211e"
      },
      "execution_count": 68,
      "outputs": [
        {
          "output_type": "execute_result",
          "data": {
            "text/plain": [
              "True"
            ]
          },
          "metadata": {},
          "execution_count": 68
        }
      ]
    },
    {
      "cell_type": "code",
      "source": [
        "if x > 0:\n",
        "  print(\"x is positive\")"
      ],
      "metadata": {
        "colab": {
          "base_uri": "https://localhost:8080/"
        },
        "id": "6kFpbKxOVexm",
        "outputId": "6f8b38d6-af39-403c-8960-cefa7d6296fd"
      },
      "execution_count": 69,
      "outputs": [
        {
          "output_type": "stream",
          "name": "stdout",
          "text": [
            "x is positive\n"
          ]
        }
      ]
    },
    {
      "cell_type": "code",
      "source": [
        "# If is a python keyword, if statements have the same structure as function definitions, it has a header and then following that an indented statement or sequence of statements which are called block, the boolean expression after if is called the condiiton, it true the statements in the block will run, if not the won't."
      ],
      "metadata": {
        "id": "l-184hwfW4ES"
      },
      "execution_count": 71,
      "outputs": []
    },
    {
      "cell_type": "code",
      "source": [
        "# sometimes it is useful to have a block that does nothing usually just as a place holder for a piece of code we haven't written yet, to continue and keep going on in this scenario we can use the pass statement which actually does nothing.\n",
        "if x < 0:\n",
        "  pass"
      ],
      "metadata": {
        "id": "-w-sztsHXPWm"
      },
      "execution_count": 74,
      "outputs": []
    },
    {
      "cell_type": "code",
      "source": [
        "# Else clause\n",
        "if x % 2 == 0:\n",
        "  print('x is even')\n",
        "else:\n",
        "  print('x is odd')"
      ],
      "metadata": {
        "colab": {
          "base_uri": "https://localhost:8080/"
        },
        "id": "R_JuX-kcXhYX",
        "outputId": "e96f28bc-bc1a-4a61-b416-cb12322d92d7"
      },
      "execution_count": 78,
      "outputs": [
        {
          "output_type": "stream",
          "name": "stdout",
          "text": [
            "x is odd\n"
          ]
        }
      ]
    },
    {
      "cell_type": "code",
      "source": [
        "# Chained conditionals, elif is an abbreviation of \"else if\", there is no limit in the number elif clauses, if there is a else clause it should be at the end, but there doesn't have to be one.\n",
        "x = 10\n",
        "y = 8\n",
        "if x < y:\n",
        "  print('x is less than y')\n",
        "elif x > y:\n",
        "  print('x is greated than ')\n",
        "else:\n",
        "  print('x and y are equal')"
      ],
      "metadata": {
        "colab": {
          "base_uri": "https://localhost:8080/"
        },
        "id": "ScTBJjNuYi93",
        "outputId": "46f47fdb-8194-4850-a4c0-00e96dde914a"
      },
      "execution_count": 82,
      "outputs": [
        {
          "output_type": "stream",
          "name": "stdout",
          "text": [
            "x is greated than \n"
          ]
        }
      ]
    },
    {
      "cell_type": "code",
      "source": [
        "if x < y:\n",
        "  print('x is less than y')\n",
        "elif x > y:\n",
        "  print('x is greated than ')\n",
        "elif x == y:\n",
        "  print('x and y are equa')"
      ],
      "metadata": {
        "colab": {
          "base_uri": "https://localhost:8080/"
        },
        "id": "kvBdVB_zaE0t",
        "outputId": "348771fd-f759-4762-9198-45ab4a8c5f6d"
      },
      "execution_count": 85,
      "outputs": [
        {
          "output_type": "stream",
          "name": "stdout",
          "text": [
            "x is greated than \n"
          ]
        }
      ]
    },
    {
      "cell_type": "code",
      "source": [
        "# Nested conditionals, one conditional can also be nested within another. outer if statement has two branches here, first is just a simple statement, second branch contains another if statement which also has two branches of its own. nested conditionals can be hard to read, I might avoid it.\n",
        "if x == y:\n",
        "  print('x and y are equal')\n",
        "else:\n",
        "  if x < y:\n",
        "    print('x is less than y')\n",
        "  else:\n",
        "    print('x is greater than y')"
      ],
      "metadata": {
        "colab": {
          "base_uri": "https://localhost:8080/"
        },
        "id": "dEV3HkpEa7pU",
        "outputId": "3e6157da-632a-49d9-c13b-2b1f8392d780"
      },
      "execution_count": 86,
      "outputs": [
        {
          "output_type": "stream",
          "name": "stdout",
          "text": [
            "x is greater than y\n"
          ]
        }
      ]
    },
    {
      "cell_type": "code",
      "source": [
        "x = 8"
      ],
      "metadata": {
        "id": "fwz34_GbcFSL"
      },
      "execution_count": 92,
      "outputs": []
    },
    {
      "cell_type": "code",
      "source": [
        "# Logical operators can help in simplifying the nested conditioanl statements, it should pass the both conditions to reach the print here.\n",
        "if 0 < x:\n",
        "  if x < 10:\n",
        "    print('x is a positive single-digit number')"
      ],
      "metadata": {
        "colab": {
          "base_uri": "https://localhost:8080/"
        },
        "id": "-vyBNn91bjyy",
        "outputId": "2487cf4f-548a-4b67-9bb7-9a3aaa5b0c3a"
      },
      "execution_count": 91,
      "outputs": [
        {
          "output_type": "stream",
          "name": "stdout",
          "text": [
            "x is a positive single-digit number\n"
          ]
        }
      ]
    },
    {
      "cell_type": "code",
      "source": [
        "x = 7"
      ],
      "metadata": {
        "id": "3w13wo25brmY"
      },
      "execution_count": 93,
      "outputs": []
    },
    {
      "cell_type": "code",
      "source": [
        "if  0 < x and x < 10:\n",
        "  print('x is a positive single-digit number')"
      ],
      "metadata": {
        "colab": {
          "base_uri": "https://localhost:8080/"
        },
        "id": "B8uPrxd3b_F8",
        "outputId": "4b877333-c09f-40a2-ce2c-f68bd8936869"
      },
      "execution_count": 94,
      "outputs": [
        {
          "output_type": "stream",
          "name": "stdout",
          "text": [
            "x is a positive single-digit number\n"
          ]
        }
      ]
    },
    {
      "cell_type": "code",
      "source": [
        "#more conciser"
      ],
      "metadata": {
        "id": "NdDadN0NcMbe"
      },
      "execution_count": 95,
      "outputs": []
    },
    {
      "cell_type": "code",
      "source": [
        "if 0 < x < 10:\n",
        "  print('x is a positive single-digit number')"
      ],
      "metadata": {
        "colab": {
          "base_uri": "https://localhost:8080/"
        },
        "id": "gxJVlFiTcOcz",
        "outputId": "670b5555-94ec-45e8-e79b-434ddf2e1962"
      },
      "execution_count": 97,
      "outputs": [
        {
          "output_type": "stream",
          "name": "stdout",
          "text": [
            "x is a positive single-digit number\n"
          ]
        }
      ]
    },
    {
      "cell_type": "code",
      "source": [
        "# Recursion"
      ],
      "metadata": {
        "id": "kOav3KDucRqT"
      },
      "execution_count": 98,
      "outputs": []
    },
    {
      "cell_type": "code",
      "source": [
        "def countdown(n):\n",
        "  if n <= 0:\n",
        "    print('Blastoff!')\n",
        "  else:\n",
        "    print(n)\n",
        "    countdown(n-1)"
      ],
      "metadata": {
        "id": "1uM-gkdCcZ2L"
      },
      "execution_count": 100,
      "outputs": []
    },
    {
      "cell_type": "code",
      "source": [
        "countdown(10)"
      ],
      "metadata": {
        "colab": {
          "base_uri": "https://localhost:8080/"
        },
        "id": "izzHqb9Echye",
        "outputId": "dd2f3779-7d4d-433e-ab45-820d6924b6fd"
      },
      "execution_count": 101,
      "outputs": [
        {
          "output_type": "stream",
          "name": "stdout",
          "text": [
            "10\n",
            "9\n",
            "8\n",
            "7\n",
            "6\n",
            "5\n",
            "4\n",
            "3\n",
            "2\n",
            "1\n",
            "Blastoff!\n"
          ]
        }
      ]
    },
    {
      "cell_type": "code",
      "source": [
        "# A function that calls itself is a recursive function\n",
        "\n",
        "def print_n_times(string, n):\n",
        "  if n > 0:\n",
        "    print(string)\n",
        "    print_n_times(string, n-1)"
      ],
      "metadata": {
        "id": "5Z62BQ4gcsKu"
      },
      "execution_count": 103,
      "outputs": []
    },
    {
      "cell_type": "code",
      "source": [
        "print_n_times('HELLO!', 6)"
      ],
      "metadata": {
        "colab": {
          "base_uri": "https://localhost:8080/"
        },
        "id": "KnZeJg09dB81",
        "outputId": "df74b8e1-36c9-48a7-fc57-8f09774f7fe6"
      },
      "execution_count": 104,
      "outputs": [
        {
          "output_type": "stream",
          "name": "stdout",
          "text": [
            "HELLO!\n",
            "HELLO!\n",
            "HELLO!\n",
            "HELLO!\n",
            "HELLO!\n",
            "HELLO!\n"
          ]
        }
      ]
    },
    {
      "cell_type": "code",
      "source": [
        "def recurse():\n",
        "  recurse()"
      ],
      "metadata": {
        "id": "mdGjVAaBdSPz"
      },
      "execution_count": 107,
      "outputs": []
    },
    {
      "cell_type": "code",
      "source": [
        "recurse()"
      ],
      "metadata": {
        "id": "BH-POBRBduCz"
      },
      "execution_count": null,
      "outputs": []
    }
  ]
}